{
 "cells": [
  {
   "cell_type": "code",
   "execution_count": 1,
   "id": "11b842b8",
   "metadata": {},
   "outputs": [],
   "source": [
    "#Importing necessary Modules\n",
    "\n",
    "import pandas as pd\n",
    "import numpy as np\n",
    "import json\n",
    "from pandas import json_normalize"
   ]
  },
  {
   "cell_type": "code",
   "execution_count": 2,
   "id": "025977a3",
   "metadata": {},
   "outputs": [
    {
     "data": {
      "text/plain": [
       "Index(['options', '_id.$oid', 'question.text', 'solution.text'], dtype='object')"
      ]
     },
     "execution_count": 2,
     "metadata": {},
     "output_type": "execute_result"
    }
   ],
   "source": [
    "#Importing & normailising json data files\n",
    "\n",
    "f=open(r\"C:\\Users\\mssre\\Desktop\\data\\sample_questions.json\",errors=\"ignore\")\n",
    "data = json.load(f)\n",
    "df= pd.json_normalize(data)\n",
    "df.columns"
   ]
  },
  {
   "cell_type": "code",
   "execution_count": 20,
   "id": "af108f24",
   "metadata": {},
   "outputs": [
    {
     "data": {
      "text/html": [
       "<div>\n",
       "<style scoped>\n",
       "    .dataframe tbody tr th:only-of-type {\n",
       "        vertical-align: middle;\n",
       "    }\n",
       "\n",
       "    .dataframe tbody tr th {\n",
       "        vertical-align: top;\n",
       "    }\n",
       "\n",
       "    .dataframe thead th {\n",
       "        text-align: right;\n",
       "    }\n",
       "</style>\n",
       "<table border=\"1\" class=\"dataframe\">\n",
       "  <thead>\n",
       "    <tr style=\"text-align: right;\">\n",
       "      <th></th>\n",
       "      <th>options</th>\n",
       "      <th>_id.$oid</th>\n",
       "      <th>question.text</th>\n",
       "      <th>solution.text</th>\n",
       "    </tr>\n",
       "  </thead>\n",
       "  <tbody>\n",
       "    <tr>\n",
       "      <th>0</th>\n",
       "      <td>[{'_id': {'$oid': '6398a1c4d1c0932861332f60'},...</td>\n",
       "      <td>6398a1c4d1c0932861332f5f</td>\n",
       "      <td>A person blows into open-end of a long pipe. A...</td>\n",
       "      <td>When a sound pulse is reflected from open end ...</td>\n",
       "    </tr>\n",
       "    <tr>\n",
       "      <th>1</th>\n",
       "      <td>[{'_id': {'$oid': '6398a1c5d1c093286133305a'},...</td>\n",
       "      <td>6398a1c5d1c0932861333059</td>\n",
       "      <td>Which of the following molecules, in pure form...</td>\n",
       "      <td>(b) and (c) being antiaromatic, are unstable a...</td>\n",
       "    </tr>\n",
       "    <tr>\n",
       "      <th>2</th>\n",
       "      <td>[{'_id': {'$oid': '6398a1c5d1c0932861333163'},...</td>\n",
       "      <td>6398a1c5d1c0932861333162</td>\n",
       "      <td>A ship is fitted with three engines $E_{1}, E_...</td>\n",
       "      <td>Given that $P\\left(X_{1}\\right)=\\frac{1}{2}, \\...</td>\n",
       "    </tr>\n",
       "    <tr>\n",
       "      <th>3</th>\n",
       "      <td>[{'_id': {'$oid': '6398a1c6d1c093286133329c'},...</td>\n",
       "      <td>6398a1c6d1c093286133329b</td>\n",
       "      <td>In the given circuit, the $\\mathrm{AC}$ source...</td>\n",
       "      <td>Impedance across $A B, R C$ part of the circui...</td>\n",
       "    </tr>\n",
       "    <tr>\n",
       "      <th>4</th>\n",
       "      <td>[{'_id': {'$oid': '6398a1c6d1c093286133349a'},...</td>\n",
       "      <td>6398a1c6d1c0932861333499</td>\n",
       "      <td>For every integer $n$, let $a_{n}$ and $b_{n}$...</td>\n",
       "      <td>Given : $f(x)=\\left\\{\\begin{array}{ll}a_{n}+\\s...</td>\n",
       "    </tr>\n",
       "  </tbody>\n",
       "</table>\n",
       "</div>"
      ],
      "text/plain": [
       "                                             options  \\\n",
       "0  [{'_id': {'$oid': '6398a1c4d1c0932861332f60'},...   \n",
       "1  [{'_id': {'$oid': '6398a1c5d1c093286133305a'},...   \n",
       "2  [{'_id': {'$oid': '6398a1c5d1c0932861333163'},...   \n",
       "3  [{'_id': {'$oid': '6398a1c6d1c093286133329c'},...   \n",
       "4  [{'_id': {'$oid': '6398a1c6d1c093286133349a'},...   \n",
       "\n",
       "                   _id.$oid  \\\n",
       "0  6398a1c4d1c0932861332f5f   \n",
       "1  6398a1c5d1c0932861333059   \n",
       "2  6398a1c5d1c0932861333162   \n",
       "3  6398a1c6d1c093286133329b   \n",
       "4  6398a1c6d1c0932861333499   \n",
       "\n",
       "                                       question.text  \\\n",
       "0  A person blows into open-end of a long pipe. A...   \n",
       "1  Which of the following molecules, in pure form...   \n",
       "2  A ship is fitted with three engines $E_{1}, E_...   \n",
       "3  In the given circuit, the $\\mathrm{AC}$ source...   \n",
       "4  For every integer $n$, let $a_{n}$ and $b_{n}$...   \n",
       "\n",
       "                                       solution.text  \n",
       "0  When a sound pulse is reflected from open end ...  \n",
       "1  (b) and (c) being antiaromatic, are unstable a...  \n",
       "2  Given that $P\\left(X_{1}\\right)=\\frac{1}{2}, \\...  \n",
       "3  Impedance across $A B, R C$ part of the circui...  \n",
       "4  Given : $f(x)=\\left\\{\\begin{array}{ll}a_{n}+\\s...  "
      ]
     },
     "execution_count": 20,
     "metadata": {},
     "output_type": "execute_result"
    }
   ],
   "source": [
    "df.head(5)"
   ]
  },
  {
   "cell_type": "code",
   "execution_count": 7,
   "id": "9c8779ae",
   "metadata": {},
   "outputs": [
    {
     "data": {
      "text/plain": [
       "'In the given circuit, the $\\\\mathrm{AC}$ source has $\\\\omega=100 \\\\mathrm{rad} / \\\\mathrm{s}$. Considering the inductor and capacitor to be ideal, the correct choice(s) is (are)\\r\\n\\r\\n<img src=\"https://cdn.quizrr.in/question-assets/jee_adv/py_dsb6fn/OyGpPSLZMw0huKfOCnZEjjxWU3IFQF8cPowE_JIDs6E.original.fullsize.png\"><br>'"
      ]
     },
     "execution_count": 7,
     "metadata": {},
     "output_type": "execute_result"
    }
   ],
   "source": [
    "#Taking a sample question to test\n",
    "\n",
    "a=df[\"question.text\"][3]\n",
    "a"
   ]
  },
  {
   "cell_type": "code",
   "execution_count": 19,
   "id": "158606fa",
   "metadata": {},
   "outputs": [
    {
     "name": "stdout",
     "output_type": "stream",
     "text": [
      "{\"data\":{\"translations\":[{\"translatedText\":\"ఇచ్చిన సర్క్యూట్‌లో, $\\\\mathrm{AC}$ మూలం $\\\\omega=100 \\\\mathrm{rad} / \\\\mathrm{s}$ని కలిగి ఉంటుంది. ఇండక్టర్ మరియు కెపాసిటర్ అనువైనవిగా పరిగణించి, సరైన ఎంపిక(లు) (అవి)\"}]}}\n"
     ]
    }
   ],
   "source": [
    "# Using a 3rd party API server to connect to google translator API, cause google API isn't free\n",
    "## Google Translator API\n",
    "\n",
    "import http.client\n",
    "\n",
    "conn = http.client.HTTPSConnection(\"google-translate1.p.rapidapi.com\")\n",
    "\n",
    "payload = \"q=In the given circuit, the $\\\\mathrm{AC}$ source has $\\\\omega=100 \\\\mathrm{rad} / \\\\mathrm{s}$. Considering the inductor and capacitor to be ideal, the correct choice(s) is (are)&target=te&source=en\"\n",
    "\n",
    "headers = {'content-type': \"application/x-www-form-urlencoded\",'Accept-Encoding': \"application/gzip\",\n",
    "    'X-RapidAPI-Key': \"bd928e5712mshb00a59a88741a8bp17f2ffjsn2eea88aa89f7\",'X-RapidAPI-Host': \"google-translate1.p.rapidapi.com\"}\n",
    "\n",
    "conn.request(\"POST\", \"/language/translate/v2\", payload, headers)\n",
    "\n",
    "res = conn.getresponse()\n",
    "data = res.read()\n",
    "\n",
    "print(data.decode(\"utf-8\"))"
   ]
  },
  {
   "cell_type": "code",
   "execution_count": 27,
   "id": "49757106",
   "metadata": {},
   "outputs": [
    {
     "name": "stdout",
     "output_type": "stream",
     "text": [
      "[{\"translations\":[{\"text\":\"ఇవ్వబడ్డ సర్క్యూట్ లో, $\\\\mathrm{AC}$ సోర్స్ $\\\\omega=100\\\\mathrm{rad} / \\\\mathrm{s}$ను కలిగి ఉంది. ఇండక్టర్ మరియు కెపాసిటర్ ఆదర్శవంతమైనవిగా పరిగణించి, సరైన ఎంపిక(లు)\",\"to\":\"te\"}]}]\n"
     ]
    }
   ],
   "source": [
    "# Using a 3rd party API (Rapid API) server to connect to API, cause google API isn't free\n",
    "## Microsoft Translator API\n",
    "\n",
    "import requests\n",
    "\n",
    "url = \"https://microsoft-translator-text.p.rapidapi.com/translate\"\n",
    "\n",
    "querystring = {\"to[0]\":\"te\",\"api-version\":\"3.0\",\"from\":\"en\",\"profanityAction\":\"NoAction\",\"textType\":\"plain\"}\n",
    "\n",
    "payload = [{\"Text\": \"In the given circuit, the $\\\\mathrm{AC}$ source has $\\\\omega=100 \\\\mathrm{rad} / \\\\mathrm{s}$. Considering the inductor and capacitor to be ideal, the correct choice(s) is (are)\"}]\n",
    "headers = {\"content-type\": \"application/json\",\n",
    "\"X-RapidAPI-Key\": \"f35828fcedmshe182ce156877019p1302d8jsnea867aa5ff21\",\n",
    "\"X-RapidAPI-Host\": \"microsoft-translator-text.p.rapidapi.com\"}\n",
    "\n",
    "response = requests.request(\"POST\", url, json=payload, headers=headers, params=querystring)\n",
    "\n",
    "print(response.text)"
   ]
  },
  {
   "cell_type": "code",
   "execution_count": 16,
   "id": "ada8bfdd",
   "metadata": {},
   "outputs": [
    {
     "name": "stdout",
     "output_type": "stream",
     "text": [
      "{\"translations\":[{\"detected_source_language\":\"en\",\"text\":\"ఇచ్చిన సర్క్యూట్లో, $\\\\ mathrm {AC} $ మూలం $\\\\ ఒమేగా = 100\\\\ mathrm {rad}/\\\\ mathrm {s} $ కలిగి ఉంది. ఆదర్శ ఉండాలి ప్రేరకం మరియు కెపాసిటర్ ఆలోచించి, సరైన ఎంపిక (లు) ఉంది (ఉన్నాయి)\"}]}\n"
     ]
    }
   ],
   "source": [
    "# Using a 3rd party API (Rapid API) server to connect to API, cause google API isn't free\n",
    "## AWS Translator API\n",
    "\n",
    "import requests\n",
    "\n",
    "url = \"https://amazon-translate.p.rapidapi.com/\"\n",
    "\n",
    "querystring = {\"text\":\"In the given circuit, the $\\\\mathrm{AC}$ source has $\\\\omega=100 \\\\mathrm{rad} / \\\\mathrm{s}$. Considering the inductor and capacitor to be ideal, the correct choice(s) is (are)\",\"target_lang\":\"te\"}\n",
    "\n",
    "headers = {\"X-RapidAPI-Key\": \"f35828fcedmshe182ce156877019p1302d8jsnea867aa5ff21\",\"X-RapidAPI-Host\": \"amazon-translate.p.rapidapi.com\"}\n",
    "\n",
    "response = requests.request(\"GET\", url, headers=headers, params=querystring)\n",
    "\n",
    "print(response.text)"
   ]
  },
  {
   "cell_type": "code",
   "execution_count": null,
   "id": "eff30e1f",
   "metadata": {},
   "outputs": [],
   "source": [
    "## Couldn't load IBM API, it was not available on rapid API and apparently require special permissions"
   ]
  }
 ],
 "metadata": {
  "kernelspec": {
   "display_name": "Python 3 (ipykernel)",
   "language": "python",
   "name": "python3"
  },
  "language_info": {
   "codemirror_mode": {
    "name": "ipython",
    "version": 3
   },
   "file_extension": ".py",
   "mimetype": "text/x-python",
   "name": "python",
   "nbconvert_exporter": "python",
   "pygments_lexer": "ipython3",
   "version": "3.9.12"
  }
 },
 "nbformat": 4,
 "nbformat_minor": 5
}
